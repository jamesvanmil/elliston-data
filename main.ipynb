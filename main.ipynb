{
 "cells": [
  {
   "cell_type": "code",
   "id": "initial_id",
   "metadata": {
    "collapsed": true,
    "ExecuteTime": {
     "end_time": "2024-09-13T17:45:16.046643Z",
     "start_time": "2024-09-13T17:45:15.418442Z"
    }
   },
   "source": [
    "import pandas as pd\n",
    "import parselmouth # package name is praat-parselmouth\n",
    "import numpy as np\n",
    "from glob import glob "
   ],
   "outputs": [],
   "execution_count": 1
  },
  {
   "metadata": {
    "ExecuteTime": {
     "end_time": "2024-09-13T17:49:25.210803Z",
     "start_time": "2024-09-13T17:49:25.202622Z"
    }
   },
   "cell_type": "code",
   "source": [
    "fps = 60\n",
    "\n",
    "data_dir = r'/Users/vanmiljf/onedrive/projects/elliston-captions-data'\n",
    "intensity_files = glob(data_dir + f'/*.mp3.intensity.{fps}.txt')\n",
    "pitch_files = glob(data_dir + f'/*.mp3.pitch.{fps}.txt')"
   ],
   "id": "306006972b7c3ec5",
   "outputs": [],
   "execution_count": 10
  },
  {
   "metadata": {
    "ExecuteTime": {
     "end_time": "2024-09-13T17:45:49.659858Z",
     "start_time": "2024-09-13T17:45:25.274408Z"
    }
   },
   "cell_type": "code",
   "source": [
    "sounds = glob(data_dir + '/*.mp3')\n",
    "\n",
    "for sound in sounds:\n",
    "    print(sound)\n",
    "    \n",
    "    snd = parselmouth.Sound(sound)\n",
    "    pitch = snd.to_pitch(time_step=(1/fps))\n",
    "    pitch_values = pitch.selected_array['frequency']\n",
    "    \n",
    "    intensity = snd.to_intensity(time_step=(1/fps))\n",
    "    intensity_values = intensity.values.T\n",
    "    \n",
    "    np.savetxt(f\"{sound}.pitch.{fps}.txt\", pitch_values)\n",
    "    np.savetxt(f\"{sound}.intensity.{fps}.txt\", intensity_values)"
   ],
   "id": "ee7bdf464a8046e1",
   "outputs": [
    {
     "name": "stdout",
     "output_type": "stream",
     "text": [
      "/Users/vanmiljf/onedrive/projects/elliston-captions-data/Elliston_Linda_Gregg_10-09-87_Track_03.mp3\n",
      "/Users/vanmiljf/onedrive/projects/elliston-captions-data/Elliston_Edward_Dorn_02-27-80_Track_04.mp3\n",
      "/Users/vanmiljf/onedrive/projects/elliston-captions-data/Elliston_Ashbery_Lehman_02-18-98.mp3\n",
      "/Users/vanmiljf/onedrive/projects/elliston-captions-data/Elliston_Thom_Gunn_10-15-81_Track_03.mp3\n",
      "/Users/vanmiljf/onedrive/projects/elliston-captions-data/Elliston_Toni_Cade_Bambara_04-12-82_Track_02.mp3\n",
      "/Users/vanmiljf/onedrive/projects/elliston-captions-data/Elliston_David_Young_11-16-1978_track_03.mp3\n",
      "/Users/vanmiljf/onedrive/projects/elliston-captions-data/Elliston_Reeves_Roger_09-08-14_track_04.mp3\n",
      "/Users/vanmiljf/onedrive/projects/elliston-captions-data/Elliston_Robert_Frost_11-15-54_B_Track_06.mp3\n",
      "/Users/vanmiljf/onedrive/projects/elliston-captions-data/Elliston Lecture 1976 Gary Snyder.mp3\n",
      "/Users/vanmiljf/onedrive/projects/elliston-captions-data/Elliston_Wanda_Coleman_11-18-82_Track12.mp3\n",
      "/Users/vanmiljf/onedrive/projects/elliston-captions-data/Elliston_C_S_Giscombe_04-21-95_track_02.mp3\n",
      "/Users/vanmiljf/onedrive/projects/elliston-captions-data/2023-10-26_anthony-cody_07_thistle.mp3\n",
      "/Users/vanmiljf/onedrive/projects/elliston-captions-data/Elliston_Ginger_Ko_11-10-21_track_03.mp3\n",
      "/Users/vanmiljf/onedrive/projects/elliston-captions-data/Elliston_Amit_Majmudar_01-26-2018_Track_06.mp3\n",
      "/Users/vanmiljf/onedrive/projects/elliston-captions-data/Elliston_Stanley_Fish_10-18-79_A.mp3\n",
      "/Users/vanmiljf/onedrive/projects/elliston-captions-data/Elliston_Robert_Pinsky_10-14-91_A_Track_03.mp3\n"
     ]
    }
   ],
   "execution_count": 3
  },
  {
   "metadata": {
    "ExecuteTime": {
     "end_time": "2024-09-13T17:49:28.082779Z",
     "start_time": "2024-09-13T17:49:27.649635Z"
    }
   },
   "cell_type": "code",
   "source": [
    "## applying min/max scaling to normalize intensity data\n",
    "\n",
    "for file in intensity_files:\n",
    "    df = pd.read_table(file, header=None)\n",
    "    df_min_max_scaled = df.copy()\n",
    "    for column in df_min_max_scaled.columns: \n",
    "        df_min_max_scaled[column] = (\n",
    "            (df_min_max_scaled[column] - df_min_max_scaled[column].min())\n",
    "            /\n",
    "            (df_min_max_scaled[column].max() - df_min_max_scaled[column].min()))\n",
    "    df_min_max_scaled.to_csv(f\"{file}.normal.txt\", header=None, index=None)"
   ],
   "id": "9ec597547d7df7fc",
   "outputs": [],
   "execution_count": 11
  },
  {
   "metadata": {
    "ExecuteTime": {
     "end_time": "2024-09-13T17:49:29.009409Z",
     "start_time": "2024-09-13T17:49:28.672990Z"
    }
   },
   "cell_type": "code",
   "source": [
    "## applying absolute scaling to normalize pitch data\n",
    "    \n",
    "for file in pitch_files:\n",
    "    df = pd.read_table(file, header=None)\n",
    "    df_abs_scaled = df.copy()\n",
    "    for column in df_abs_scaled.columns: \n",
    "        df_abs_scaled[column] = (\n",
    "            df_abs_scaled[column]\n",
    "            /\n",
    "            df_abs_scaled[column].abs().max())\n",
    "    df_abs_scaled.to_csv(f\"{file}.normal.txt\", header=None, index=None)\n",
    "    "
   ],
   "id": "afb43e5fec77d053",
   "outputs": [],
   "execution_count": 12
  },
  {
   "metadata": {},
   "cell_type": "code",
   "outputs": [],
   "execution_count": null,
   "source": "",
   "id": "f9a9662e4831edcc"
  }
 ],
 "metadata": {
  "kernelspec": {
   "display_name": "Python 3",
   "language": "python",
   "name": "python3"
  },
  "language_info": {
   "codemirror_mode": {
    "name": "ipython",
    "version": 2
   },
   "file_extension": ".py",
   "mimetype": "text/x-python",
   "name": "python",
   "nbconvert_exporter": "python",
   "pygments_lexer": "ipython2",
   "version": "2.7.6"
  }
 },
 "nbformat": 4,
 "nbformat_minor": 5
}
